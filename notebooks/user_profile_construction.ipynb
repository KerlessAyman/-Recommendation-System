{
 "cells": [
  {
   "cell_type": "markdown",
   "id": "f6863dd1",
   "metadata": {},
   "source": [
    "# Build user profile vector from explicit input."
   ]
  },
  {
   "cell_type": "code",
   "execution_count": 4,
   "id": "d8509358",
   "metadata": {},
   "outputs": [],
   "source": [
    "import pandas as pd\n",
    "from scipy import sparse\n",
    "import pickle\n",
    "\n",
    "# Load preprocessed news and tf-idf matrix\n",
    "news_df = pd.read_pickle(\"../data/cleaned_news_df.pkl\")\n",
    "tfidf_matrix = sparse.load_npz(\"../data/tfidf_matrix.npz\")\n",
    "\n",
    "# Load vectorizer if needed later\n",
    "with open(\"../data/tfidf_vectorizer.pkl\", \"rb\") as f:\n",
    "    tfidf_vectorizer = pickle.load(f)\n"
   ]
  },
  {
   "cell_type": "code",
   "execution_count": 5,
   "id": "d867709f",
   "metadata": {},
   "outputs": [],
   "source": [
    "# Select preferred articles by ID\n",
    "preferred_ids = ['N12345', 'N23456', 'N34567']  # Replace with actual IDs\n",
    "preferred_articles = news_df[news_df['news_id'].isin(preferred_ids)]\n",
    "\n",
    "# Get TF-IDF rows for these articles\n",
    "preferred_indices = preferred_articles.index.tolist()\n",
    "user_profile_vector = tfidf_matrix[preferred_indices].mean(axis=0)\n"
   ]
  },
  {
   "cell_type": "code",
   "execution_count": 6,
   "id": "e6eac810",
   "metadata": {},
   "outputs": [
    {
     "name": "stdout",
     "output_type": "stream",
     "text": [
      "  news_id   category      subcategory  \\\n",
      "0  N55528  lifestyle  lifestyleroyals   \n",
      "1  N19639     health       weightloss   \n",
      "2  N61837       news        newsworld   \n",
      "3  N53526     health           voices   \n",
      "4  N38324     health          medical   \n",
      "\n",
      "                                               title  \\\n",
      "0  The Brands Queen Elizabeth, Prince Charles, an...   \n",
      "1                      50 Worst Habits For Belly Fat   \n",
      "2  The Cost of Trump's Aid Freeze in the Trenches...   \n",
      "3  I Was An NBA Wife. Here's How It Affected My M...   \n",
      "4  How to Get Rid of Skin Tags, According to a De...   \n",
      "\n",
      "                                            abstract  \\\n",
      "0  Shop the notebooks, jackets, and more that the...   \n",
      "1  These seemingly harmless habits are holding yo...   \n",
      "2  Lt. Ivan Molchanets peeked over a parapet of s...   \n",
      "3  I felt like I was a fraud, and being an NBA wi...   \n",
      "4  They seem harmless, but there's a very good re...   \n",
      "\n",
      "                                             url  \\\n",
      "0  https://assets.msn.com/labs/mind/AAGH0ET.html   \n",
      "1  https://assets.msn.com/labs/mind/AAB19MK.html   \n",
      "2  https://assets.msn.com/labs/mind/AAJgNsz.html   \n",
      "3  https://assets.msn.com/labs/mind/AACk2N6.html   \n",
      "4  https://assets.msn.com/labs/mind/AAAKEkt.html   \n",
      "\n",
      "                                      title_entities  \\\n",
      "0  [{\"Label\": \"Prince Philip, Duke of Edinburgh\",...   \n",
      "1  [{\"Label\": \"Adipose tissue\", \"Type\": \"C\", \"Wik...   \n",
      "2                                                 []   \n",
      "3                                                 []   \n",
      "4  [{\"Label\": \"Skin tag\", \"Type\": \"C\", \"WikidataI...   \n",
      "\n",
      "                                   abstract_entities  \\\n",
      "0                                                 []   \n",
      "1  [{\"Label\": \"Adipose tissue\", \"Type\": \"C\", \"Wik...   \n",
      "2  [{\"Label\": \"Ukraine\", \"Type\": \"G\", \"WikidataId...   \n",
      "3  [{\"Label\": \"National Basketball Association\", ...   \n",
      "4  [{\"Label\": \"Skin tag\", \"Type\": \"C\", \"WikidataI...   \n",
      "\n",
      "                                             content  \\\n",
      "0  The Brands Queen Elizabeth, Prince Charles, an...   \n",
      "1  50 Worst Habits For Belly Fat These seemingly ...   \n",
      "2  The Cost of Trump's Aid Freeze in the Trenches...   \n",
      "3  I Was An NBA Wife. Here's How It Affected My M...   \n",
      "4  How to Get Rid of Skin Tags, According to a De...   \n",
      "\n",
      "                                       clean_content  \n",
      "0  brands queen elizabeth prince charles prince p...  \n",
      "1  worst habits belly fat seemingly harmless habi...  \n",
      "2  cost trumps aid freeze trenches ukraines war l...  \n",
      "3  nba wife heres affected mental health felt lik...  \n",
      "4  get rid skin tags according dermatologist seem...  \n"
     ]
    }
   ],
   "source": [
    "print(news_df.head())"
   ]
  },
  {
   "cell_type": "code",
   "execution_count": 7,
   "id": "29bf5b43",
   "metadata": {},
   "outputs": [
    {
     "name": "stdout",
     "output_type": "stream",
     "text": [
      "User profile vector saved successfully!\n"
     ]
    }
   ],
   "source": [
    "import pickle\n",
    "\n",
    "# Assuming user_profile_vector has been calculated in previous steps\n",
    "with open('../results/user_profile_vector.pkl', 'wb') as f:\n",
    "    pickle.dump(user_profile_vector, f)\n",
    "\n",
    "print(\"User profile vector saved successfully!\")\n"
   ]
  }
 ],
 "metadata": {
  "kernelspec": {
   "display_name": "base",
   "language": "python",
   "name": "python3"
  },
  "language_info": {
   "codemirror_mode": {
    "name": "ipython",
    "version": 3
   },
   "file_extension": ".py",
   "mimetype": "text/x-python",
   "name": "python",
   "nbconvert_exporter": "python",
   "pygments_lexer": "ipython3",
   "version": "3.12.3"
  }
 },
 "nbformat": 4,
 "nbformat_minor": 5
}
