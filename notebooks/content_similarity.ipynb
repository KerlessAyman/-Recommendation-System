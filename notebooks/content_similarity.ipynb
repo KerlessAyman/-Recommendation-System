{
 "cells": [
  {
   "cell_type": "code",
   "execution_count": null,
   "id": "bf72b4aa",
   "metadata": {},
   "outputs": [],
   "source": [
    "import pandas as pd\n",
    "from scipy import sparse\n",
    "import pickle\n",
    "from sklearn.metrics.pairwise import cosine_similarity\n",
    "import numpy as np\n"
   ]
  },
  {
   "cell_type": "code",
   "execution_count": null,
   "id": "db95e646",
   "metadata": {},
   "outputs": [
    {
     "name": "stdout",
     "output_type": "stream",
     "text": [
      "Available IDs:\n",
      "['N55528', 'N19639', 'N61837', 'N53526', 'N38324', 'N2073', 'N49186', 'N59295', 'N24510', 'N39237']\n",
      "✅ Similarity Scores:\n",
      "[0.         0.         0.01972448 ... 0.         0.         0.        ]\n",
      "✅ similarity_scores.pkl saved.\n"
     ]
    }
   ],
   "source": [
    "# Load cleaned news data (DataFrame)\n",
    "news_df = pd.read_pickle(\"../data/cleaned_news_df.pkl\")\n",
    "\n",
    "# Load the TF-IDF matrix\n",
    "tfidf_matrix = sparse.load_npz(\"../data/tfidf_matrix.npz\")\n",
    "\n",
    "# Load the TF-IDF vectorizer\n",
    "with open(\"../data/tfidf_vectorizer.pkl\", \"rb\") as f:\n",
    "    tfidf_vectorizer = pickle.load(f)\n",
    "\n",
    "# ✅ Select real article IDs that exist in your data\n",
    "# View some actual IDs if unsure:\n",
    "print(\"Available IDs:\")\n",
    "print(news_df['news_id'].head(10).tolist())\n",
    "\n",
    "# Replace with real existing IDs\n",
    "preferred_ids = ['N46478', 'N47901']  # example: must exist in news_df\n",
    "\n",
    "# Filter the preferred articles\n",
    "preferred_articles = news_df[news_df['news_id'].isin(preferred_ids)]\n",
    "\n",
    "if preferred_articles.empty:\n",
    "    print(\"❌ No matching articles found for the provided preferred_ids.\")\n",
    "else:\n",
    "    # Get indices of preferred articles\n",
    "    preferred_indices = preferred_articles.index.tolist()\n",
    "\n",
    "    # Build user profile vector (mean of preferred TF-IDF rows)\n",
    "    user_profile_vector = tfidf_matrix[preferred_indices].mean(axis=0)\n",
    "\n",
    "    # ✅ Ensure it's a proper array shape (1 row)\n",
    "    user_profile_vector = np.asarray(user_profile_vector).reshape(1, -1)\n",
    "\n",
    "    # Compute cosine similarity between user profile and all articles\n",
    "    similarity_scores = cosine_similarity(user_profile_vector, tfidf_matrix)\n",
    "\n",
    "    # Print similarity scores\n",
    "    print(\"✅ Similarity Scores:\")\n",
    "    print(similarity_scores.flatten())\n",
    "\n",
    "    # Save similarity scores for later use in 04\n",
    "    with open(\"../results/similarity_scores.pkl\", \"wb\") as f:\n",
    "        pickle.dump(similarity_scores, f)\n",
    "\n",
    "    print(\"✅ similarity_scores.pkl saved.\")\n"
   ]
  }
 ],
 "metadata": {
  "kernelspec": {
   "display_name": "base",
   "language": "python",
   "name": "python3"
  },
  "language_info": {
   "codemirror_mode": {
    "name": "ipython",
    "version": 3
   },
   "file_extension": ".py",
   "mimetype": "text/x-python",
   "name": "python",
   "nbconvert_exporter": "python",
   "pygments_lexer": "ipython3",
   "version": "3.12.3"
  }
 },
 "nbformat": 4,
 "nbformat_minor": 5
}
