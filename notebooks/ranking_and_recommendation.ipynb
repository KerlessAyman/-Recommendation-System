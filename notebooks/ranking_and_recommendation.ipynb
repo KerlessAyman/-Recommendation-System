{
 "cells": [
  {
   "cell_type": "code",
   "execution_count": 16,
   "id": "d43c572f",
   "metadata": {},
   "outputs": [],
   "source": [
    "import pandas as pd\n",
    "from scipy import sparse\n",
    "import pickle\n",
    "\n",
    "# Load cleaned news data (DataFrame)\n",
    "news_df = pd.read_pickle(\"../data/cleaned_news_df.pkl\")\n",
    "\n",
    "# Load the TF-IDF matrix\n",
    "tfidf_matrix = sparse.load_npz(\"../data/tfidf_matrix.npz\")\n",
    "\n",
    "# Load the TF-IDF vectorizer (if needed)\n",
    "with open(\"../data/tfidf_vectorizer.pkl\", \"rb\") as f:\n",
    "    tfidf_vectorizer = pickle.load(f)\n",
    "\n",
    "# Load the user profile vector (assuming it was saved earlier in step 02)\n",
    "with open('../results/user_profile_vector.pkl', 'rb') as f:\n",
    "    user_profile_vector = pickle.load(f)\n",
    "\n",
    "# Load the similarity scores computed in step 03 (cosine similarity)\n",
    "with open('../results/similarity_scores.pkl', 'rb') as f:\n",
    "    similarity_scores = pickle.load(f)\n"
   ]
  },
  {
   "cell_type": "code",
   "execution_count": 17,
   "id": "bc75da4f",
   "metadata": {},
   "outputs": [
    {
     "name": "stdout",
     "output_type": "stream",
     "text": [
      "      news_id                                              title      category\n",
      "51184  N47901  10 things that didn't suck in the Lions' loss ...        sports\n",
      "3507   N46478  Man Charged With Assault For Punch Outside Tru...          news\n",
      "50296  N19646                  The Bear's Den, November 12, 2019        sports\n",
      "45517  N21519  RHOP's Monique Samuels Charged With Assault Af...            tv\n",
      "27388  N52316  Man Facing Charges In North Side Assault, Accu...          news\n",
      "10893  N62234  Protesters burn MAGA hats, police use pepper s...          news\n",
      "20332    N256  Minneapolis Man Charged With Absentee Ballot F...          news\n",
      "10380  N23604  State corrections officer from Foley charged i...  foodanddrink\n",
      "27055  N40103  Man Killed In Minneapolis Assault; Homicide In...          news\n",
      "49116  N10759  Bears vs. Lions: How to get tickets, channel i...        sports\n"
     ]
    }
   ],
   "source": [
    "# 04_ranking_and_recommendation.ipynb\n",
    "# Rank and display recommendations\n",
    "\n",
    "import pandas as pd\n",
    "import numpy as np\n",
    "\n",
    "# Ensure user_profile_vector is loaded from previous steps\n",
    "# Ensure tfidf_matrix and similarity_scores are loaded as well\n",
    "\n",
    "# Get top N article indices (top_n can be adjusted as needed)\n",
    "top_n = 10\n",
    "\n",
    "# Ensure similarity_scores is a 2D array and reshape if necessary\n",
    "similarity_scores = similarity_scores.flatten()\n",
    "\n",
    "# Sort the similarity scores in descending order and get the indices\n",
    "top_indices = similarity_scores.argsort()[::-1][:top_n]\n",
    "\n",
    "# Retrieve recommended articles based on sorted indices\n",
    "recommended_articles = news_df.iloc[top_indices]\n",
    "\n",
    "# Export the recommendations to a CSV file\n",
    "recommended_articles[['news_id', 'title', 'category', 'abstract']].to_csv(\"../results/sample_recommendations.csv\", index=False)\n",
    "\n",
    "# Display the top recommended articles (with news_id, title, and category)\n",
    "print(recommended_articles[['news_id', 'title', 'category']])\n"
   ]
  },
  {
   "cell_type": "code",
   "execution_count": 18,
   "id": "a607935c",
   "metadata": {},
   "outputs": [
    {
     "name": "stdout",
     "output_type": "stream",
     "text": [
      "Similarity Scores:\n",
      "[0.         0.         0.01972448 ... 0.         0.         0.        ]\n"
     ]
    }
   ],
   "source": [
    "# Print similarity scores for all articles (flattened)\n",
    "print(\"Similarity Scores:\")\n",
    "print(similarity_scores.flatten())\n"
   ]
  }
 ],
 "metadata": {
  "kernelspec": {
   "display_name": "base",
   "language": "python",
   "name": "python3"
  },
  "language_info": {
   "codemirror_mode": {
    "name": "ipython",
    "version": 3
   },
   "file_extension": ".py",
   "mimetype": "text/x-python",
   "name": "python",
   "nbconvert_exporter": "python",
   "pygments_lexer": "ipython3",
   "version": "3.12.3"
  }
 },
 "nbformat": 4,
 "nbformat_minor": 5
}
